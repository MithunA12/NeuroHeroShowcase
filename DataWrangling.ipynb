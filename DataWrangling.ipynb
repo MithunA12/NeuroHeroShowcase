{
 "cells": [
  {
   "cell_type": "code",
   "execution_count": 1,
   "metadata": {},
   "outputs": [],
   "source": [
    "import scipy.io\n",
    "import numpy as np\n",
    "import pandas as pd\n",
    "import os\n",
    "import wfdb"
   ]
  },
  {
   "cell_type": "code",
   "execution_count": 2,
   "metadata": {},
   "outputs": [],
   "source": [
    "def load_mat(fileName):\n",
    "    data=scipy.io.loadmat(fileName)\n",
    "    return data['val']\n"
   ]
  },
  {
   "cell_type": "code",
   "execution_count": 3,
   "metadata": {},
   "outputs": [],
   "source": [
    "def load_patient_data(file_path):\n",
    "    with open(file_path, 'r') as f:\n",
    "        lines = f.readlines()\n",
    "\n",
    "    # Parse the desired patient data from the lines\n",
    "    parsed_data = {}\n",
    "    for line in lines:\n",
    "        \n",
    "        attribute, value = line.strip().split(':')\n",
    "        # Store the parsed data in the dictionary\n",
    "        parsed_data[attribute.strip()] = value.strip()\n",
    "\n",
    "    return parsed_data"
   ]
  },
  {
   "cell_type": "code",
   "execution_count": 4,
   "metadata": {},
   "outputs": [],
   "source": [
    "def extract_patient_data(parent_dir):\n",
    "    patient_folders = os.listdir(parent_dir)\n",
    "    all_patient_data = []\n",
    "    \n",
    "    for patient_folder in patient_folders:\n",
    "        \n",
    "        if os.path.isdir(os.path.join(parent_dir, patient_folder)):\n",
    "            # Extract the patient number from the folder name\n",
    "            patient_number = patient_folder\n",
    "            # Construct the file path\n",
    "            file_path = os.path.join(parent_dir, patient_folder, f'{patient_number}.txt')\n",
    "\n",
    "            # Check if the file exists\n",
    "            if os.path.isfile(file_path):\n",
    "                # Load and process the patient data\n",
    "                patient_data = load_patient_data(file_path)\n",
    "\n",
    "                # Append the patient data to the list\n",
    "                all_patient_data.append(patient_data)\n",
    "            else:\n",
    "                print(f\"No text file found for patient {patient_number}\")\n",
    "    return all_patient_data"
   ]
  },
  {
   "cell_type": "code",
   "execution_count": 5,
   "metadata": {},
   "outputs": [],
   "source": [
    "# def extract_all_eeg(root_dir):\n",
    "#     # Initialize the list to store all patient EEG data\n",
    "#     all_eeg_data = []\n",
    "\n",
    "#     # Iterate over the patient folders\n",
    "#     for patient_folder in os.listdir(root_dir):\n",
    "#         patient_dir = os.path.join(root_dir, patient_folder)\n",
    "\n",
    "#         # Initialize a list to store the channel data for the patient\n",
    "#         eeg_data_patient = []\n",
    "\n",
    "#         # Iterate over the files in the patient folder\n",
    "#         for file in os.listdir(patient_dir):\n",
    "#             file_path = os.path.join(patient_dir, file)\n",
    "\n",
    "#             # Check if the file is a MATLAB MAT file\n",
    "#             if file.endswith('.mat'):\n",
    "#                 # Load the EEG data from the MATLAB MAT file\n",
    "                \n",
    "#                 eeg_data = load_mat(file_path)\n",
    "\n",
    "#                 # Append the channel data to the patient's EEG data list\n",
    "#                 eeg_data_patient.append(eeg_data)\n",
    "\n",
    "#         # Append the patient's EEG data list to the list of all EEG data\n",
    "#         all_eeg_data.append(eeg_data_patient)\n",
    "#     return all_eeg_data\n",
    "def extract_all_eeg(root_dir):\n",
    "    # Initialize the list to store all patient EEG data\n",
    "    all_eeg_data = []\n",
    "\n",
    "    # Iterate over the patient folders\n",
    "    for patient_folder in os.listdir(root_dir):\n",
    "        patient_dir = os.path.join(root_dir, patient_folder)\n",
    "\n",
    "        # Initialize a list to store the channel data for the patient\n",
    "        eeg_data_patient = []\n",
    "\n",
    "        # Iterate over the files in the patient folder\n",
    "        for file in os.listdir(patient_dir):\n",
    "            file_path = os.path.join(patient_dir, file)\n",
    "\n",
    "            # Check if the file is a MATLAB MAT file and contains \"EEG\" in its name\n",
    "            if file.endswith('.mat') and 'EEG' in file:\n",
    "                # Load the EEG data from the MATLAB MAT file\n",
    "                eeg_data = load_mat(file_path)\n",
    "\n",
    "                # Append the channel data to the patient's EEG data list\n",
    "                eeg_data_patient.append(eeg_data)\n",
    "\n",
    "        # Append the patient's EEG data list to the list of all EEG data\n",
    "        all_eeg_data.append(eeg_data_patient)\n",
    "    return all_eeg_data\n"
   ]
  },
  {
   "cell_type": "code",
   "execution_count": 6,
   "metadata": {},
   "outputs": [],
   "source": [
    "# def extract_all_headers(root_dir):\n",
    "#     patient_data_array = []\n",
    "#     channel_names = []\n",
    "\n",
    "#     # Iterate over the patient folders\n",
    "#     for patient_folder in os.listdir(root_dir):\n",
    "#         patient_folder_path = os.path.join(root_dir, patient_folder)\n",
    "#         # Check if the folder is a directory\n",
    "#         if os.path.isdir(patient_folder_path):\n",
    "#             hea_file_path = None  # Initialize with None\n",
    "#             # Search for any file with the patient ID in its name\n",
    "#             for file in os.listdir(patient_folder_path):\n",
    "#                 if patient_folder in file and file.endswith('.hea'):\n",
    "#                     hea_file_path = os.path.join(patient_folder_path, file)\n",
    "#                     break  # Found the .hea file, exit the loop\n",
    "            \n",
    "#             if hea_file_path is not None:\n",
    "#                 # Read the .hea file\n",
    "#                 record = wfdb.rdheader(hea_file_path[:-4])\n",
    "                \n",
    "#                 # Extract the desired information from the header\n",
    "#                 sampling_frequency = record.fs\n",
    "#                 channel = record.sig_name\n",
    "#                 # Add the patient information to the data array\n",
    "#                 patient_data_array.append(sampling_frequency)\n",
    "#                 channel_names.append(channel)\n",
    "#             else:\n",
    "#                 # Append None to the data array if no .hea file found\n",
    "#                 patient_data_array.append(None)\n",
    "#                 channel_names.append(None)\n",
    "#         else:\n",
    "#             print(f\"Invalid folder found: {patient_folder}\")\n",
    "#     return patient_data_array, channel_names\n",
    "\n",
    "def extract_all_headers(root_dir):\n",
    "    patient_data_array = []\n",
    "    channel_names = []\n",
    "\n",
    "    # Iterate over the patient folders\n",
    "    for patient_folder in os.listdir(root_dir):\n",
    "        patient_folder_path = os.path.join(root_dir, patient_folder)\n",
    "        # Check if the folder is a directory\n",
    "        if os.path.isdir(patient_folder_path):\n",
    "            max_samples = 0  # Initialize max samples to 0\n",
    "            max_samples_file = None  # Initialize the max samples file to None\n",
    "\n",
    "            # Search for any EEG .mat file with the patient ID in its name\n",
    "            for file in os.listdir(patient_folder_path):\n",
    "                if 'EEG' in file and file.endswith('.mat'):\n",
    "                    file_path = os.path.join(patient_folder_path, file)\n",
    "                    eeg_data = load_mat(file_path)  # Load the .mat file\n",
    "                    samples = len(eeg_data)  # Get the number of samples\n",
    "\n",
    "                    # Check if the number of samples in this file is greater than max_samples\n",
    "                    if samples > max_samples:\n",
    "                        max_samples = samples\n",
    "                        max_samples_file = file\n",
    "\n",
    "            # If a .mat file with the maximum number of samples was found\n",
    "            if max_samples_file is not None:\n",
    "                # Replace the .mat extension with .hea to get the corresponding .hea file\n",
    "                hea_file = max_samples_file.replace('.mat', '.hea')\n",
    "                hea_file_path = os.path.join(patient_folder_path, hea_file)\n",
    "\n",
    "                # Read the .hea file\n",
    "                record = wfdb.rdheader(hea_file_path[:-4])\n",
    "\n",
    "                # Extract the desired information from the header\n",
    "                sampling_frequency = record.fs\n",
    "                channel = record.sig_name\n",
    "\n",
    "                # Add the patient information to the data array\n",
    "                patient_data_array.append(sampling_frequency)\n",
    "                channel_names.append(channel)\n",
    "            else:\n",
    "                patient_data_array.append(None)\n",
    "                channel_names.append(None)\n",
    "\n",
    "        else:\n",
    "            print(f\"Invalid folder found: {patient_folder}\")\n",
    "\n",
    "    return patient_data_array, channel_names\n",
    "\n"
   ]
  },
  {
   "cell_type": "code",
   "execution_count": 7,
   "metadata": {},
   "outputs": [],
   "source": [
    "# def reorder_eeg_channels(eeg_data, channel_names, desired_channel_order):\n",
    "    \n",
    "\n",
    "#     final_mapping_dicts = []\n",
    "#     reordered_eeg_data = []\n",
    "#     max_num_samples = 0\n",
    "\n",
    "#     for i in range(len(eeg_data)):\n",
    "#         patient_eeg = eeg_data[i]\n",
    "#         patient_channels = channel_names[i]\n",
    "\n",
    "#         # Create a mapping dictionary for the patient's channel names\n",
    "#         mapping_dict = {}\n",
    "#         reordered_channels = []\n",
    "#         for channel in desired_channel_order:\n",
    "#             if channel in patient_channels:\n",
    "#                 index = patient_channels.index(channel)\n",
    "#                 mapping_dict[channel] = index\n",
    "#                 reordered_channels.append(patient_eeg[index])\n",
    "\n",
    "#         final_mapping_dicts.append(mapping_dict)\n",
    "#         reordered_eeg_data.append(reordered_channels)\n",
    "#         max_num_samples = max(max_num_samples, len(reordered_channels))\n",
    "\n",
    "#     # Pad or truncate channels to match the length of the longest channel\n",
    "#     for i in range(len(reordered_eeg_data)):\n",
    "#         channel_data = reordered_eeg_data[i]\n",
    "#         channel_length = len(channel_data)\n",
    "#         if channel_length < max_num_samples:\n",
    "#             padded_data = np.pad(channel_data, (0, max_num_samples - channel_length), mode='constant')\n",
    "#             reordered_eeg_data[i] = padded_data\n",
    "#         elif channel_length > max_num_samples:\n",
    "#             truncated_data = channel_data[:max_num_samples]\n",
    "#             reordered_eeg_data[i] = truncated_data\n",
    "\n",
    "#     # Delete channels that are not in the desired channel list\n",
    "#     for i in range(len(reordered_eeg_data)):\n",
    "#         patient_channels = list(final_mapping_dicts[i].keys())\n",
    "#         channels_to_delete = [channel for channel in patient_channels if channel not in desired_channel_order]\n",
    "#         for channel in channels_to_delete:\n",
    "#             del final_mapping_dicts[i][channel]\n",
    "\n",
    "#     return reordered_eeg_data, final_mapping_dicts"
   ]
  },
  {
   "cell_type": "code",
   "execution_count": 8,
   "metadata": {},
   "outputs": [],
   "source": [
    "def delete_channels(clean_df):\n",
    "    for i, row in clean_df.iterrows():\n",
    "        eeg_data = np.array(row['EEG'])  # Convert the list to a NumPy array\n",
    "        if eeg_data.shape[0] > 19:  # Check if the EEG data has more than 19 channels\n",
    "            # Drop channels after the 19th channel\n",
    "            clean_df.at[i, 'EEG'] = eeg_data[:19]"
   ]
  },
  {
   "cell_type": "code",
   "execution_count": 9,
   "metadata": {},
   "outputs": [],
   "source": [
    "def eeg_one_file(all_eeg_data):\n",
    "    # eeg_data_one_file = []\n",
    "    # for patient_files in all_eeg_data:\n",
    "    #     if len(patient_files) > 0:\n",
    "    #         # Select the first file for each patient\n",
    "    #         first_file = patient_files[0]\n",
    "    #         eeg_data_one_file.append(first_file)\n",
    "    #     else:\n",
    "    #         eeg_data_one_file.append(None)\n",
    "    eeg_data_one_file = []\n",
    "\n",
    "    for patient_files in all_eeg_data:\n",
    "        if len(patient_files) > 0:\n",
    "            # Find the file with the most samples\n",
    "            max_samples = -1\n",
    "            selected_file = None\n",
    "\n",
    "            for eeg_file in patient_files:\n",
    "                num_samples = eeg_file.shape[1]  # Get the number of samples\n",
    "                if num_samples > max_samples:\n",
    "                    max_samples = num_samples\n",
    "                    selected_file = eeg_file\n",
    "\n",
    "            eeg_data_one_file.append(selected_file)\n",
    "        else:\n",
    "            eeg_data_one_file.append(None)\n",
    "    \n",
    "    return eeg_data_one_file\n",
    "\n"
   ]
  },
  {
   "cell_type": "code",
   "execution_count": 10,
   "metadata": {},
   "outputs": [],
   "source": [
    "def reorder_eeg_channels(eeg_data, channel_names):\n",
    "    desired_channel_order = ['Fp1', 'Fp2', 'F3', 'F4', 'C3', 'C4', 'P3', 'P4', 'O1', 'O2', 'F7', 'F8', 'T3', 'T4', 'T5', 'T6', 'Fz', 'Cz', 'Pz']\n",
    "\n",
    "    final_mapping_dicts = []\n",
    "    reordered_eeg_data = []\n",
    "    max_num_samples = 0\n",
    "\n",
    "    for i in range(len(eeg_data)):\n",
    "        patient_eeg = eeg_data[i]\n",
    "        patient_channels = channel_names[i]\n",
    "\n",
    "        # Create a mapping dictionary for the patient's channel names\n",
    "        mapping_dict = {}\n",
    "        reordered_channels = []\n",
    "        for channel in desired_channel_order:\n",
    "            if channel in patient_channels:\n",
    "                index = patient_channels.index(channel)\n",
    "                mapping_dict[channel] = index\n",
    "                reordered_channels.append(patient_eeg[index])\n",
    "\n",
    "        final_mapping_dicts.append(mapping_dict)\n",
    "        reordered_eeg_data.append(reordered_channels)\n",
    "        max_num_samples = max(max_num_samples, len(reordered_channels))\n",
    "\n",
    "    # Pad or truncate channels to match the length of the longest channel\n",
    "    for i in range(len(reordered_eeg_data)):\n",
    "        channel_data = reordered_eeg_data[i]\n",
    "        channel_length = len(channel_data)\n",
    "        if channel_length < max_num_samples:\n",
    "            padded_data = np.pad(channel_data, (0, max_num_samples - channel_length), mode='constant')\n",
    "            reordered_eeg_data[i] = padded_data\n",
    "        elif channel_length > max_num_samples:\n",
    "            truncated_data = channel_data[:max_num_samples]\n",
    "            reordered_eeg_data[i] = truncated_data\n",
    "\n",
    "    # Delete channels that are not in the desired channel list\n",
    "    for i in range(len(reordered_eeg_data)):\n",
    "        patient_channels = list(final_mapping_dicts[i].keys())\n",
    "        channels_to_delete = [channel for channel in patient_channels if channel not in desired_channel_order]\n",
    "        for channel in channels_to_delete:\n",
    "            del final_mapping_dicts[i][channel]\n",
    "\n",
    "    return reordered_eeg_data, final_mapping_dicts"
   ]
  },
  {
   "cell_type": "code",
   "execution_count": 11,
   "metadata": {},
   "outputs": [],
   "source": [
    "root_dir = r'c:\\Users\\sendm\\physionet.org\\files\\i-care\\2.0\\training'\n",
    "all_eeg_data = extract_all_eeg(root_dir)\n",
    "# Print the shape of the EEG data\n",
    "for patient_idx, eeg_data_patient in enumerate(all_eeg_data):\n",
    "    patient_shape = [channel_data.shape for channel_data in eeg_data_patient]"
   ]
  },
  {
   "cell_type": "code",
   "execution_count": null,
   "metadata": {},
   "outputs": [],
   "source": [
    "eeg_data_one_file = eeg_one_file(all_eeg_data)"
   ]
  },
  {
   "cell_type": "code",
   "execution_count": null,
   "metadata": {},
   "outputs": [],
   "source": [
    "print(eeg_data_one_file[0])"
   ]
  },
  {
   "cell_type": "code",
   "execution_count": null,
   "metadata": {},
   "outputs": [],
   "source": [
    "all_hea_data, channel_names = extract_all_headers(root_dir)"
   ]
  },
  {
   "cell_type": "code",
   "execution_count": null,
   "metadata": {},
   "outputs": [],
   "source": [
    "num_patients_with_eeg = sum(len(eeg_data_patient) > 0 for eeg_data_patient in all_eeg_data)\n",
    "\n",
    "\n",
    "# Print the number of patients with EEG data\n",
    "print(f\"Number of patients with EEG data: {num_patients_with_eeg}\")"
   ]
  },
  {
   "cell_type": "code",
   "execution_count": null,
   "metadata": {},
   "outputs": [],
   "source": [
    "df2 = pd.DataFrame({\"EEG\":eeg_data_one_file})\n"
   ]
  },
  {
   "cell_type": "code",
   "execution_count": null,
   "metadata": {},
   "outputs": [],
   "source": [
    "parent_dir = r\"C:\\Users\\sendm\\physionet.org\\files\\i-care\\2.0\\training\"\n",
    "all_patient_data = extract_patient_data(parent_dir)\n"
   ]
  },
  {
   "cell_type": "code",
   "execution_count": null,
   "metadata": {},
   "outputs": [],
   "source": [
    "df = pd.DataFrame(data=all_patient_data)\n"
   ]
  },
  {
   "cell_type": "code",
   "execution_count": null,
   "metadata": {},
   "outputs": [],
   "source": [
    "final_df = pd.concat([df, df2], axis=1, join='inner') \n"
   ]
  },
  {
   "cell_type": "code",
   "execution_count": null,
   "metadata": {},
   "outputs": [],
   "source": [
    "print(final_df)"
   ]
  },
  {
   "cell_type": "code",
   "execution_count": null,
   "metadata": {},
   "outputs": [],
   "source": [
    "final_df[\"FS\"] = all_hea_data\n",
    "final_df['Channel Names'] = channel_names"
   ]
  },
  {
   "cell_type": "code",
   "execution_count": null,
   "metadata": {},
   "outputs": [],
   "source": [
    "bad_indexes = []\n",
    "for i in final_df.index:\n",
    "    if final_df['EEG'].isnull().iloc[i]:\n",
    "        bad_indexes.append(i)\n",
    "clean_df = final_df.drop(bad_indexes).reset_index(drop=True)\n"
   ]
  },
  {
   "cell_type": "code",
   "execution_count": null,
   "metadata": {},
   "outputs": [],
   "source": [
    "print(clean_df)"
   ]
  },
  {
   "cell_type": "code",
   "execution_count": null,
   "metadata": {},
   "outputs": [],
   "source": [
    "del clean_df['Hospital']\n",
    "del clean_df['Patient']\n",
    "del clean_df['TTM']\n"
   ]
  },
  {
   "cell_type": "code",
   "execution_count": null,
   "metadata": {},
   "outputs": [],
   "source": [
    "clean_df['Outcome'] = clean_df['Outcome'].replace(\"Good\", 0)\n",
    "clean_df['Outcome'] = clean_df['Outcome'].replace(\"Poor\", 1)\n",
    "\n",
    "clean_df['Sex'] = clean_df['Sex'].replace(\"Male\", 0)\n",
    "clean_df['Sex'] = clean_df['Sex'].replace(\"Female\", 1)\n",
    "\n",
    "clean_df['Shockable Rhythm'] = clean_df['Shockable Rhythm'].replace(\"True\", 0)\n",
    "clean_df['Shockable Rhythm'] = clean_df['Shockable Rhythm'].replace(\"False\", 1)\n",
    "\n",
    "clean_df['OHCA'] = clean_df['OHCA'].replace(\"True\", 0)\n",
    "clean_df['OHCA'] = clean_df['OHCA'].replace(\"False\", 1)\n"
   ]
  },
  {
   "cell_type": "code",
   "execution_count": null,
   "metadata": {},
   "outputs": [],
   "source": [
    "clean_df['ROSC'] = clean_df['ROSC'].replace(\"nan\", np.nan)\n",
    "clean_df = clean_df.dropna(subset=['ROSC'])\n",
    "clean_df['Sex'] = clean_df['Sex'].replace(\"nan\", np.nan)\n",
    "clean_df = clean_df.dropna(subset=['Sex'])\n",
    "clean_df['OHCA'] = clean_df['OHCA'].replace(\"nan\", np.nan)\n",
    "clean_df = clean_df.dropna(subset=['OHCA'])\n",
    "clean_df['Shockable Rhythm'] = clean_df['Shockable Rhythm'].replace(\"nan\", np.nan)\n",
    "clean_df = clean_df.dropna(subset=['Shockable Rhythm'])\n",
    "clean_df.dropna(subset=['FS'], inplace=True)\n",
    "\n",
    "clean_df.reset_index(drop=True, inplace=True)"
   ]
  },
  {
   "cell_type": "code",
   "execution_count": null,
   "metadata": {},
   "outputs": [],
   "source": [
    "good = 0\n",
    "bad = 0\n",
    "for i in clean_df.index:\n",
    "    if(clean_df['Outcome'][i] == 0):\n",
    "        \n",
    "        good += 1\n",
    "    else:\n",
    "        bad += 1\n",
    "        \n",
    "print(\"Number of good labels: \" + str(good))\n",
    "print(\"Number of bad labels: \" + str(bad))"
   ]
  },
  {
   "cell_type": "code",
   "execution_count": null,
   "metadata": {},
   "outputs": [],
   "source": [
    "print(clean_df)"
   ]
  },
  {
   "cell_type": "code",
   "execution_count": null,
   "metadata": {},
   "outputs": [],
   "source": [
    "reordered_eeg, map_dicts = reorder_eeg_channels(clean_df['EEG'], clean_df['Channel Names'])"
   ]
  },
  {
   "cell_type": "code",
   "execution_count": null,
   "metadata": {},
   "outputs": [],
   "source": [
    "print(reordered_eeg)"
   ]
  },
  {
   "cell_type": "code",
   "execution_count": null,
   "metadata": {},
   "outputs": [],
   "source": [
    "clean_df['EEG'] = reordered_eeg"
   ]
  },
  {
   "cell_type": "code",
   "execution_count": null,
   "metadata": {},
   "outputs": [],
   "source": [
    "del clean_df['Channel Names']"
   ]
  },
  {
   "cell_type": "code",
   "execution_count": null,
   "metadata": {},
   "outputs": [],
   "source": [
    "delete_channels(clean_df)"
   ]
  },
  {
   "cell_type": "code",
   "execution_count": null,
   "metadata": {},
   "outputs": [],
   "source": [
    "outcome_list = clean_df['Outcome']\n",
    "eeg_list = clean_df['EEG']\n",
    "fs_list = clean_df['FS']"
   ]
  },
  {
   "cell_type": "code",
   "execution_count": null,
   "metadata": {},
   "outputs": [],
   "source": [
    "del clean_df['Outcome']\n",
    "del clean_df['EEG']\n",
    "del clean_df['FS']"
   ]
  },
  {
   "cell_type": "code",
   "execution_count": null,
   "metadata": {},
   "outputs": [],
   "source": [
    "clean_df['EEG'] = eeg_list\n",
    "clean_df['FS'] = fs_list\n",
    "clean_df['Outcome'] = outcome_list\n"
   ]
  },
  {
   "cell_type": "code",
   "execution_count": null,
   "metadata": {},
   "outputs": [],
   "source": [
    "final_clean_df = clean_df.reset_index()"
   ]
  },
  {
   "cell_type": "code",
   "execution_count": null,
   "metadata": {},
   "outputs": [],
   "source": [
    "print(final_clean_df)"
   ]
  },
  {
   "cell_type": "code",
   "execution_count": null,
   "metadata": {},
   "outputs": [],
   "source": [
    "final_clean_df['Age'] = final_clean_df['Age'].astype(int)\n",
    "final_clean_df['Sex'] = final_clean_df['Sex'].astype(int)\n",
    "final_clean_df['ROSC'] = final_clean_df['ROSC'].astype(int)\n",
    "final_clean_df['OHCA'] = final_clean_df['OHCA'].astype(int)\n",
    "final_clean_df['Shockable Rhythm'] = final_clean_df['Shockable Rhythm'].astype(int)\n",
    "\n",
    "# final_clean_df.to_hdf('CCIR_DF_Large2.h5', key='data', mode='w')\n",
    "final_clean_df.to_pickle('CCIR_DF_Large.pkl')\n"
   ]
  }
 ],
 "metadata": {
  "kernelspec": {
   "display_name": "Python 3",
   "language": "python",
   "name": "python3"
  },
  "language_info": {
   "codemirror_mode": {
    "name": "ipython",
    "version": 3
   },
   "file_extension": ".py",
   "mimetype": "text/x-python",
   "name": "python",
   "nbconvert_exporter": "python",
   "pygments_lexer": "ipython3",
   "version": "3.11.3"
  },
  "orig_nbformat": 4
 },
 "nbformat": 4,
 "nbformat_minor": 2
}
